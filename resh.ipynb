{
 "cells": [
  {
   "cell_type": "code",
   "execution_count": 54,
   "metadata": {
    "collapsed": true,
    "ExecuteTime": {
     "end_time": "2023-07-25T13:39:55.091611200Z",
     "start_time": "2023-07-25T13:39:55.079599700Z"
    }
   },
   "outputs": [],
   "source": [
    "import pandas as pd\n",
    "from sklearn.preprocessing import OneHotEncoder"
   ]
  },
  {
   "cell_type": "code",
   "execution_count": null,
   "outputs": [],
   "source": [
    "#загрзка данных"
   ],
   "metadata": {
    "collapsed": false
   }
  },
  {
   "cell_type": "code",
   "execution_count": 55,
   "outputs": [],
   "source": [
    "train = pd.read_csv('train.csv',sep = ',')\n",
    "test = train['num_sold']\n",
    "train=train.drop('num_sold',axis=1)"
   ],
   "metadata": {
    "collapsed": false,
    "ExecuteTime": {
     "end_time": "2023-07-25T13:39:55.485994500Z",
     "start_time": "2023-07-25T13:39:55.328995700Z"
    }
   }
  },
  {
   "cell_type": "code",
   "execution_count": null,
   "outputs": [],
   "source": [
    "#первичная предобработка"
   ],
   "metadata": {
    "collapsed": false
   }
  },
  {
   "cell_type": "code",
   "execution_count": 56,
   "outputs": [],
   "source": [
    "train=train.drop('id',axis=1)\n",
    "\n",
    "train['date'] = pd.to_datetime(train['date'])\n",
    "train['day'] = train['date'].dt.day\n",
    "train['month'] = train['date'].dt.month\n",
    "train['year'] = train['date'].dt.year\n",
    "train=train.drop('date',axis=1)\n"
   ],
   "metadata": {
    "collapsed": false,
    "ExecuteTime": {
     "end_time": "2023-07-25T13:39:55.595472100Z",
     "start_time": "2023-07-25T13:39:55.533991300Z"
    }
   }
  },
  {
   "cell_type": "code",
   "execution_count": null,
   "outputs": [],
   "source": [
    "#кодировка"
   ],
   "metadata": {
    "collapsed": false
   }
  },
  {
   "cell_type": "code",
   "execution_count": 57,
   "outputs": [
    {
     "name": "stderr",
     "output_type": "stream",
     "text": [
      "C:\\Users\\korob\\AppData\\Local\\Programs\\Python\\Python311\\Lib\\site-packages\\sklearn\\preprocessing\\_encoders.py:868: FutureWarning: `sparse` was renamed to `sparse_output` in version 1.2 and will be removed in 1.4. `sparse_output` is ignored unless you leave `sparse` to its default value.\n",
      "  warnings.warn(\n",
      "C:\\Users\\korob\\AppData\\Local\\Programs\\Python\\Python311\\Lib\\site-packages\\sklearn\\preprocessing\\_encoders.py:868: FutureWarning: `sparse` was renamed to `sparse_output` in version 1.2 and will be removed in 1.4. `sparse_output` is ignored unless you leave `sparse` to its default value.\n",
      "  warnings.warn(\n",
      "C:\\Users\\korob\\AppData\\Local\\Programs\\Python\\Python311\\Lib\\site-packages\\sklearn\\preprocessing\\_encoders.py:868: FutureWarning: `sparse` was renamed to `sparse_output` in version 1.2 and will be removed in 1.4. `sparse_output` is ignored unless you leave `sparse` to its default value.\n",
      "  warnings.warn(\n"
     ]
    }
   ],
   "source": [
    "enc = OneHotEncoder(sparse=False)\n",
    "enc_dt= enc.fit_transform(train[['country']])\n",
    "encoded_df = pd.DataFrame(enc_dt, columns=enc.categories_[0])\n",
    "train = pd.concat([train.loc[:, train.columns != 'country'], encoded_df], axis=1)\n",
    "\n",
    "enc = OneHotEncoder(sparse=False)\n",
    "enc_dt= enc.fit_transform(train[['product']])\n",
    "encoded_df = pd.DataFrame(enc_dt, columns=enc.categories_[0])\n",
    "train = pd.concat([train.loc[:, train.columns != 'product'], encoded_df], axis=1)\n",
    "\n",
    "enc = OneHotEncoder(sparse=False)\n",
    "enc_dt= enc.fit_transform(train[['store']])\n",
    "encoded_df = pd.DataFrame(enc_dt, columns=enc.categories_[0])\n",
    "train = pd.concat([train.loc[:, train.columns != 'store'], encoded_df], axis=1)"
   ],
   "metadata": {
    "collapsed": false,
    "ExecuteTime": {
     "end_time": "2023-07-25T13:39:55.976800Z",
     "start_time": "2023-07-25T13:39:55.828874200Z"
    }
   }
  },
  {
   "cell_type": "code",
   "execution_count": null,
   "outputs": [],
   "source": [
    "#тесты"
   ],
   "metadata": {
    "collapsed": false
   }
  },
  {
   "cell_type": "code",
   "execution_count": 59,
   "outputs": [
    {
     "data": {
      "text/plain": "   day  month  year  Argentina  Canada  Estonia  Japan  Spain  \\\n0    1      1  2017        1.0     0.0      0.0    0.0    0.0   \n1    1      1  2017        1.0     0.0      0.0    0.0    0.0   \n2    1      1  2017        1.0     0.0      0.0    0.0    0.0   \n3    1      1  2017        1.0     0.0      0.0    0.0    0.0   \n4    1      1  2017        1.0     0.0      0.0    0.0    0.0   \n\n   Using LLMs to Improve Your Coding  Using LLMs to Train More LLMs  \\\n0                                1.0                            0.0   \n1                                0.0                            1.0   \n2                                0.0                            0.0   \n3                                0.0                            0.0   \n4                                0.0                            0.0   \n\n   Using LLMs to Win Friends and Influence People  \\\n0                                             0.0   \n1                                             0.0   \n2                                             1.0   \n3                                             0.0   \n4                                             0.0   \n\n   Using LLMs to Win More Kaggle Competitions  Using LLMs to Write Better  \\\n0                                         0.0                         0.0   \n1                                         0.0                         0.0   \n2                                         0.0                         0.0   \n3                                         1.0                         0.0   \n4                                         0.0                         1.0   \n\n   Kagglazon  Kaggle Learn  Kaggle Store  \n0        0.0           1.0           0.0  \n1        0.0           1.0           0.0  \n2        0.0           1.0           0.0  \n3        0.0           1.0           0.0  \n4        0.0           1.0           0.0  ",
      "text/html": "<div>\n<style scoped>\n    .dataframe tbody tr th:only-of-type {\n        vertical-align: middle;\n    }\n\n    .dataframe tbody tr th {\n        vertical-align: top;\n    }\n\n    .dataframe thead th {\n        text-align: right;\n    }\n</style>\n<table border=\"1\" class=\"dataframe\">\n  <thead>\n    <tr style=\"text-align: right;\">\n      <th></th>\n      <th>day</th>\n      <th>month</th>\n      <th>year</th>\n      <th>Argentina</th>\n      <th>Canada</th>\n      <th>Estonia</th>\n      <th>Japan</th>\n      <th>Spain</th>\n      <th>Using LLMs to Improve Your Coding</th>\n      <th>Using LLMs to Train More LLMs</th>\n      <th>Using LLMs to Win Friends and Influence People</th>\n      <th>Using LLMs to Win More Kaggle Competitions</th>\n      <th>Using LLMs to Write Better</th>\n      <th>Kagglazon</th>\n      <th>Kaggle Learn</th>\n      <th>Kaggle Store</th>\n    </tr>\n  </thead>\n  <tbody>\n    <tr>\n      <th>0</th>\n      <td>1</td>\n      <td>1</td>\n      <td>2017</td>\n      <td>1.0</td>\n      <td>0.0</td>\n      <td>0.0</td>\n      <td>0.0</td>\n      <td>0.0</td>\n      <td>1.0</td>\n      <td>0.0</td>\n      <td>0.0</td>\n      <td>0.0</td>\n      <td>0.0</td>\n      <td>0.0</td>\n      <td>1.0</td>\n      <td>0.0</td>\n    </tr>\n    <tr>\n      <th>1</th>\n      <td>1</td>\n      <td>1</td>\n      <td>2017</td>\n      <td>1.0</td>\n      <td>0.0</td>\n      <td>0.0</td>\n      <td>0.0</td>\n      <td>0.0</td>\n      <td>0.0</td>\n      <td>1.0</td>\n      <td>0.0</td>\n      <td>0.0</td>\n      <td>0.0</td>\n      <td>0.0</td>\n      <td>1.0</td>\n      <td>0.0</td>\n    </tr>\n    <tr>\n      <th>2</th>\n      <td>1</td>\n      <td>1</td>\n      <td>2017</td>\n      <td>1.0</td>\n      <td>0.0</td>\n      <td>0.0</td>\n      <td>0.0</td>\n      <td>0.0</td>\n      <td>0.0</td>\n      <td>0.0</td>\n      <td>1.0</td>\n      <td>0.0</td>\n      <td>0.0</td>\n      <td>0.0</td>\n      <td>1.0</td>\n      <td>0.0</td>\n    </tr>\n    <tr>\n      <th>3</th>\n      <td>1</td>\n      <td>1</td>\n      <td>2017</td>\n      <td>1.0</td>\n      <td>0.0</td>\n      <td>0.0</td>\n      <td>0.0</td>\n      <td>0.0</td>\n      <td>0.0</td>\n      <td>0.0</td>\n      <td>0.0</td>\n      <td>1.0</td>\n      <td>0.0</td>\n      <td>0.0</td>\n      <td>1.0</td>\n      <td>0.0</td>\n    </tr>\n    <tr>\n      <th>4</th>\n      <td>1</td>\n      <td>1</td>\n      <td>2017</td>\n      <td>1.0</td>\n      <td>0.0</td>\n      <td>0.0</td>\n      <td>0.0</td>\n      <td>0.0</td>\n      <td>0.0</td>\n      <td>0.0</td>\n      <td>0.0</td>\n      <td>0.0</td>\n      <td>1.0</td>\n      <td>0.0</td>\n      <td>1.0</td>\n      <td>0.0</td>\n    </tr>\n  </tbody>\n</table>\n</div>"
     },
     "execution_count": 59,
     "metadata": {},
     "output_type": "execute_result"
    }
   ],
   "source": [
    "train.head()"
   ],
   "metadata": {
    "collapsed": false,
    "ExecuteTime": {
     "end_time": "2023-07-25T13:41:22.355097400Z",
     "start_time": "2023-07-25T13:41:22.314687Z"
    }
   }
  },
  {
   "cell_type": "code",
   "execution_count": 60,
   "outputs": [
    {
     "data": {
      "text/plain": "Empty DataFrame\nColumns: [day, month, year, Argentina, Canada, Estonia, Japan, Spain, Using LLMs to Improve Your Coding, Using LLMs to Train More LLMs, Using LLMs to Win Friends and Influence People, Using LLMs to Win More Kaggle Competitions, Using LLMs to Write Better, Kagglazon, Kaggle Learn, Kaggle Store]\nIndex: []",
      "text/html": "<div>\n<style scoped>\n    .dataframe tbody tr th:only-of-type {\n        vertical-align: middle;\n    }\n\n    .dataframe tbody tr th {\n        vertical-align: top;\n    }\n\n    .dataframe thead th {\n        text-align: right;\n    }\n</style>\n<table border=\"1\" class=\"dataframe\">\n  <thead>\n    <tr style=\"text-align: right;\">\n      <th></th>\n      <th>day</th>\n      <th>month</th>\n      <th>year</th>\n      <th>Argentina</th>\n      <th>Canada</th>\n      <th>Estonia</th>\n      <th>Japan</th>\n      <th>Spain</th>\n      <th>Using LLMs to Improve Your Coding</th>\n      <th>Using LLMs to Train More LLMs</th>\n      <th>Using LLMs to Win Friends and Influence People</th>\n      <th>Using LLMs to Win More Kaggle Competitions</th>\n      <th>Using LLMs to Write Better</th>\n      <th>Kagglazon</th>\n      <th>Kaggle Learn</th>\n      <th>Kaggle Store</th>\n    </tr>\n  </thead>\n  <tbody>\n  </tbody>\n</table>\n</div>"
     },
     "execution_count": 60,
     "metadata": {},
     "output_type": "execute_result"
    }
   ],
   "source": [
    "train[train.isnull().any(axis=1)]"
   ],
   "metadata": {
    "collapsed": false,
    "ExecuteTime": {
     "end_time": "2023-07-25T13:42:15.908468500Z",
     "start_time": "2023-07-25T13:42:15.879388800Z"
    }
   }
  },
  {
   "cell_type": "code",
   "execution_count": null,
   "outputs": [],
   "source": [],
   "metadata": {
    "collapsed": false
   }
  }
 ],
 "metadata": {
  "kernelspec": {
   "display_name": "Python 3",
   "language": "python",
   "name": "python3"
  },
  "language_info": {
   "codemirror_mode": {
    "name": "ipython",
    "version": 2
   },
   "file_extension": ".py",
   "mimetype": "text/x-python",
   "name": "python",
   "nbconvert_exporter": "python",
   "pygments_lexer": "ipython2",
   "version": "2.7.6"
  }
 },
 "nbformat": 4,
 "nbformat_minor": 0
}
