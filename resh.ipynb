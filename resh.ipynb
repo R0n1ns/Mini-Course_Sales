{
 "cells": [
  {
   "cell_type": "code",
   "execution_count": 40,
   "metadata": {
    "collapsed": true,
    "ExecuteTime": {
     "end_time": "2023-07-25T15:23:44.608309800Z",
     "start_time": "2023-07-25T15:23:44.584987100Z"
    }
   },
   "outputs": [],
   "source": [
    "import pandas as pd\n",
    "\n",
    "from sklearn.preprocessing import OneHotEncoder\n",
    "from sklearn.ensemble import RandomForestRegressor\n",
    "from sklearn.model_selection import train_test_split\n",
    "from sklearn.metrics import mean_absolute_error\n",
    "from sklearn.metrics import mean_squared_error\n",
    "from sklearn.metrics import r2_score\n"
   ]
  },
  {
   "cell_type": "markdown",
   "source": [
    "Загрзка данных"
   ],
   "metadata": {
    "collapsed": false
   }
  },
  {
   "cell_type": "code",
   "execution_count": 41,
   "outputs": [],
   "source": [
    "train = pd.read_csv('train.csv',sep = ',')"
   ],
   "metadata": {
    "collapsed": false,
    "ExecuteTime": {
     "end_time": "2023-07-25T15:23:45.743200Z",
     "start_time": "2023-07-25T15:23:45.401659700Z"
    }
   }
  },
  {
   "cell_type": "markdown",
   "source": [
    "Первичная предобработка"
   ],
   "metadata": {
    "collapsed": false
   }
  },
  {
   "cell_type": "code",
   "execution_count": 42,
   "outputs": [],
   "source": [
    "train=train.drop('id',axis=1)\n",
    "\n",
    "train['date'] = pd.to_datetime(train['date'])\n",
    "train['day'] = train['date'].dt.day\n",
    "train['month'] = train['date'].dt.month\n",
    "train['year'] = train['date'].dt.year\n",
    "train=train.drop('date',axis=1)\n"
   ],
   "metadata": {
    "collapsed": false,
    "ExecuteTime": {
     "end_time": "2023-07-25T15:23:46.602896200Z",
     "start_time": "2023-07-25T15:23:46.522634900Z"
    }
   }
  },
  {
   "cell_type": "markdown",
   "source": [
    "Кодировка"
   ],
   "metadata": {
    "collapsed": false
   }
  },
  {
   "cell_type": "code",
   "execution_count": 43,
   "outputs": [
    {
     "name": "stderr",
     "output_type": "stream",
     "text": [
      "C:\\Users\\korob\\AppData\\Local\\Programs\\Python\\Python311\\Lib\\site-packages\\sklearn\\preprocessing\\_encoders.py:868: FutureWarning: `sparse` was renamed to `sparse_output` in version 1.2 and will be removed in 1.4. `sparse_output` is ignored unless you leave `sparse` to its default value.\n",
      "  warnings.warn(\n",
      "C:\\Users\\korob\\AppData\\Local\\Programs\\Python\\Python311\\Lib\\site-packages\\sklearn\\preprocessing\\_encoders.py:868: FutureWarning: `sparse` was renamed to `sparse_output` in version 1.2 and will be removed in 1.4. `sparse_output` is ignored unless you leave `sparse` to its default value.\n",
      "  warnings.warn(\n",
      "C:\\Users\\korob\\AppData\\Local\\Programs\\Python\\Python311\\Lib\\site-packages\\sklearn\\preprocessing\\_encoders.py:868: FutureWarning: `sparse` was renamed to `sparse_output` in version 1.2 and will be removed in 1.4. `sparse_output` is ignored unless you leave `sparse` to its default value.\n",
      "  warnings.warn(\n"
     ]
    }
   ],
   "source": [
    "enc = OneHotEncoder(sparse=False)\n",
    "enc_dt= enc.fit_transform(train[['country']])\n",
    "encoded_df = pd.DataFrame(enc_dt, columns=enc.categories_[0])\n",
    "train = pd.concat([train.loc[:, train.columns != 'country'], encoded_df], axis=1)\n",
    "\n",
    "enc = OneHotEncoder(sparse=False)\n",
    "enc_dt= enc.fit_transform(train[['product']])\n",
    "encoded_df = pd.DataFrame(enc_dt, columns=enc.categories_[0])\n",
    "train = pd.concat([train.loc[:, train.columns != 'product'], encoded_df], axis=1)\n",
    "\n",
    "enc = OneHotEncoder(sparse=False)\n",
    "enc_dt= enc.fit_transform(train[['store']])\n",
    "encoded_df = pd.DataFrame(enc_dt, columns=enc.categories_[0])\n",
    "train = pd.concat([train.loc[:, train.columns != 'store'], encoded_df], axis=1)"
   ],
   "metadata": {
    "collapsed": false,
    "ExecuteTime": {
     "end_time": "2023-07-25T15:23:48.007572Z",
     "start_time": "2023-07-25T15:23:47.811423Z"
    }
   }
  },
  {
   "cell_type": "markdown",
   "source": [
    "Тесты"
   ],
   "metadata": {
    "collapsed": false
   }
  },
  {
   "cell_type": "code",
   "execution_count": 9,
   "outputs": [
    {
     "data": {
      "text/plain": "   num_sold  day  month  year  Argentina  Canada  Estonia  Japan  Spain  \\\n0        63    1      1  2017        1.0     0.0      0.0    0.0    0.0   \n1        66    1      1  2017        1.0     0.0      0.0    0.0    0.0   \n2         9    1      1  2017        1.0     0.0      0.0    0.0    0.0   \n3        59    1      1  2017        1.0     0.0      0.0    0.0    0.0   \n4        49    1      1  2017        1.0     0.0      0.0    0.0    0.0   \n\n   Using LLMs to Improve Your Coding  Using LLMs to Train More LLMs  \\\n0                                1.0                            0.0   \n1                                0.0                            1.0   \n2                                0.0                            0.0   \n3                                0.0                            0.0   \n4                                0.0                            0.0   \n\n   Using LLMs to Win Friends and Influence People  \\\n0                                             0.0   \n1                                             0.0   \n2                                             1.0   \n3                                             0.0   \n4                                             0.0   \n\n   Using LLMs to Win More Kaggle Competitions  Using LLMs to Write Better  \\\n0                                         0.0                         0.0   \n1                                         0.0                         0.0   \n2                                         0.0                         0.0   \n3                                         1.0                         0.0   \n4                                         0.0                         1.0   \n\n   Kagglazon  Kaggle Learn  Kaggle Store  \n0        0.0           1.0           0.0  \n1        0.0           1.0           0.0  \n2        0.0           1.0           0.0  \n3        0.0           1.0           0.0  \n4        0.0           1.0           0.0  ",
      "text/html": "<div>\n<style scoped>\n    .dataframe tbody tr th:only-of-type {\n        vertical-align: middle;\n    }\n\n    .dataframe tbody tr th {\n        vertical-align: top;\n    }\n\n    .dataframe thead th {\n        text-align: right;\n    }\n</style>\n<table border=\"1\" class=\"dataframe\">\n  <thead>\n    <tr style=\"text-align: right;\">\n      <th></th>\n      <th>num_sold</th>\n      <th>day</th>\n      <th>month</th>\n      <th>year</th>\n      <th>Argentina</th>\n      <th>Canada</th>\n      <th>Estonia</th>\n      <th>Japan</th>\n      <th>Spain</th>\n      <th>Using LLMs to Improve Your Coding</th>\n      <th>Using LLMs to Train More LLMs</th>\n      <th>Using LLMs to Win Friends and Influence People</th>\n      <th>Using LLMs to Win More Kaggle Competitions</th>\n      <th>Using LLMs to Write Better</th>\n      <th>Kagglazon</th>\n      <th>Kaggle Learn</th>\n      <th>Kaggle Store</th>\n    </tr>\n  </thead>\n  <tbody>\n    <tr>\n      <th>0</th>\n      <td>63</td>\n      <td>1</td>\n      <td>1</td>\n      <td>2017</td>\n      <td>1.0</td>\n      <td>0.0</td>\n      <td>0.0</td>\n      <td>0.0</td>\n      <td>0.0</td>\n      <td>1.0</td>\n      <td>0.0</td>\n      <td>0.0</td>\n      <td>0.0</td>\n      <td>0.0</td>\n      <td>0.0</td>\n      <td>1.0</td>\n      <td>0.0</td>\n    </tr>\n    <tr>\n      <th>1</th>\n      <td>66</td>\n      <td>1</td>\n      <td>1</td>\n      <td>2017</td>\n      <td>1.0</td>\n      <td>0.0</td>\n      <td>0.0</td>\n      <td>0.0</td>\n      <td>0.0</td>\n      <td>0.0</td>\n      <td>1.0</td>\n      <td>0.0</td>\n      <td>0.0</td>\n      <td>0.0</td>\n      <td>0.0</td>\n      <td>1.0</td>\n      <td>0.0</td>\n    </tr>\n    <tr>\n      <th>2</th>\n      <td>9</td>\n      <td>1</td>\n      <td>1</td>\n      <td>2017</td>\n      <td>1.0</td>\n      <td>0.0</td>\n      <td>0.0</td>\n      <td>0.0</td>\n      <td>0.0</td>\n      <td>0.0</td>\n      <td>0.0</td>\n      <td>1.0</td>\n      <td>0.0</td>\n      <td>0.0</td>\n      <td>0.0</td>\n      <td>1.0</td>\n      <td>0.0</td>\n    </tr>\n    <tr>\n      <th>3</th>\n      <td>59</td>\n      <td>1</td>\n      <td>1</td>\n      <td>2017</td>\n      <td>1.0</td>\n      <td>0.0</td>\n      <td>0.0</td>\n      <td>0.0</td>\n      <td>0.0</td>\n      <td>0.0</td>\n      <td>0.0</td>\n      <td>0.0</td>\n      <td>1.0</td>\n      <td>0.0</td>\n      <td>0.0</td>\n      <td>1.0</td>\n      <td>0.0</td>\n    </tr>\n    <tr>\n      <th>4</th>\n      <td>49</td>\n      <td>1</td>\n      <td>1</td>\n      <td>2017</td>\n      <td>1.0</td>\n      <td>0.0</td>\n      <td>0.0</td>\n      <td>0.0</td>\n      <td>0.0</td>\n      <td>0.0</td>\n      <td>0.0</td>\n      <td>0.0</td>\n      <td>0.0</td>\n      <td>1.0</td>\n      <td>0.0</td>\n      <td>1.0</td>\n      <td>0.0</td>\n    </tr>\n  </tbody>\n</table>\n</div>"
     },
     "execution_count": 9,
     "metadata": {},
     "output_type": "execute_result"
    }
   ],
   "source": [
    "train.head()"
   ],
   "metadata": {
    "collapsed": false,
    "ExecuteTime": {
     "end_time": "2023-07-25T15:07:27.790277Z",
     "start_time": "2023-07-25T15:07:27.700443900Z"
    }
   }
  },
  {
   "cell_type": "code",
   "execution_count": 44,
   "outputs": [
    {
     "data": {
      "text/plain": "Empty DataFrame\nColumns: [num_sold, day, month, year, Argentina, Canada, Estonia, Japan, Spain, Using LLMs to Improve Your Coding, Using LLMs to Train More LLMs, Using LLMs to Win Friends and Influence People, Using LLMs to Win More Kaggle Competitions, Using LLMs to Write Better, Kagglazon, Kaggle Learn, Kaggle Store]\nIndex: []",
      "text/html": "<div>\n<style scoped>\n    .dataframe tbody tr th:only-of-type {\n        vertical-align: middle;\n    }\n\n    .dataframe tbody tr th {\n        vertical-align: top;\n    }\n\n    .dataframe thead th {\n        text-align: right;\n    }\n</style>\n<table border=\"1\" class=\"dataframe\">\n  <thead>\n    <tr style=\"text-align: right;\">\n      <th></th>\n      <th>num_sold</th>\n      <th>day</th>\n      <th>month</th>\n      <th>year</th>\n      <th>Argentina</th>\n      <th>Canada</th>\n      <th>Estonia</th>\n      <th>Japan</th>\n      <th>Spain</th>\n      <th>Using LLMs to Improve Your Coding</th>\n      <th>Using LLMs to Train More LLMs</th>\n      <th>Using LLMs to Win Friends and Influence People</th>\n      <th>Using LLMs to Win More Kaggle Competitions</th>\n      <th>Using LLMs to Write Better</th>\n      <th>Kagglazon</th>\n      <th>Kaggle Learn</th>\n      <th>Kaggle Store</th>\n    </tr>\n  </thead>\n  <tbody>\n  </tbody>\n</table>\n</div>"
     },
     "execution_count": 44,
     "metadata": {},
     "output_type": "execute_result"
    }
   ],
   "source": [
    "train[train.isnull().any(axis=1)]"
   ],
   "metadata": {
    "collapsed": false,
    "ExecuteTime": {
     "end_time": "2023-07-25T15:23:54.849019600Z",
     "start_time": "2023-07-25T15:23:54.807141100Z"
    }
   }
  },
  {
   "cell_type": "code",
   "execution_count": 53,
   "outputs": [
    {
     "name": "stdout",
     "output_type": "stream",
     "text": [
      "['day', 'month', 'year', 'Argentina', 'Canada', 'Estonia', 'Japan', 'Spain', 'Using LLMs to Improve Your Coding', 'Using LLMs to Train More LLMs', 'Using LLMs to Win Friends and Influence People', 'Using LLMs to Win More Kaggle Competitions', 'Using LLMs to Write Better', 'Kagglazon', 'Kaggle Learn', 'Kaggle Store']\n"
     ]
    }
   ],
   "source": [
    "clm = train.columns.drop('num_sold')\n",
    "print(list(clm))"
   ],
   "metadata": {
    "collapsed": false,
    "ExecuteTime": {
     "end_time": "2023-07-25T15:24:47.232120Z",
     "start_time": "2023-07-25T15:24:47.086690700Z"
    }
   }
  },
  {
   "cell_type": "markdown",
   "source": [
    "Разделение данных"
   ],
   "metadata": {
    "collapsed": false
   }
  },
  {
   "cell_type": "code",
   "execution_count": 14,
   "outputs": [],
   "source": [
    "train,test= train_test_split(train,train_size=0.80)\n",
    "y_tr = train['num_sold']\n",
    "x_tr = train.loc[:,train.columns!='num_sold']\n",
    "y_tst = train['num_sold']\n",
    "x_tst = train.loc[:,train.columns!='num_sold']"
   ],
   "metadata": {
    "collapsed": false,
    "ExecuteTime": {
     "end_time": "2023-07-25T15:07:41.406000700Z",
     "start_time": "2023-07-25T15:07:41.342858600Z"
    }
   }
  },
  {
   "cell_type": "code",
   "execution_count": 45,
   "outputs": [],
   "source": [
    "y_tr = train['num_sold']\n",
    "x_tr = train.loc[:,train.columns!='num_sold']"
   ],
   "metadata": {
    "collapsed": false,
    "ExecuteTime": {
     "end_time": "2023-07-25T15:23:58.562874700Z",
     "start_time": "2023-07-25T15:23:58.543323Z"
    }
   }
  },
  {
   "cell_type": "markdown",
   "source": [
    "Модели"
   ],
   "metadata": {
    "collapsed": false
   }
  },
  {
   "cell_type": "code",
   "execution_count": 46,
   "outputs": [
    {
     "data": {
      "text/plain": "RandomForestRegressor(random_state=1)",
      "text/html": "<style>#sk-container-id-2 {color: black;background-color: white;}#sk-container-id-2 pre{padding: 0;}#sk-container-id-2 div.sk-toggleable {background-color: white;}#sk-container-id-2 label.sk-toggleable__label {cursor: pointer;display: block;width: 100%;margin-bottom: 0;padding: 0.3em;box-sizing: border-box;text-align: center;}#sk-container-id-2 label.sk-toggleable__label-arrow:before {content: \"▸\";float: left;margin-right: 0.25em;color: #696969;}#sk-container-id-2 label.sk-toggleable__label-arrow:hover:before {color: black;}#sk-container-id-2 div.sk-estimator:hover label.sk-toggleable__label-arrow:before {color: black;}#sk-container-id-2 div.sk-toggleable__content {max-height: 0;max-width: 0;overflow: hidden;text-align: left;background-color: #f0f8ff;}#sk-container-id-2 div.sk-toggleable__content pre {margin: 0.2em;color: black;border-radius: 0.25em;background-color: #f0f8ff;}#sk-container-id-2 input.sk-toggleable__control:checked~div.sk-toggleable__content {max-height: 200px;max-width: 100%;overflow: auto;}#sk-container-id-2 input.sk-toggleable__control:checked~label.sk-toggleable__label-arrow:before {content: \"▾\";}#sk-container-id-2 div.sk-estimator input.sk-toggleable__control:checked~label.sk-toggleable__label {background-color: #d4ebff;}#sk-container-id-2 div.sk-label input.sk-toggleable__control:checked~label.sk-toggleable__label {background-color: #d4ebff;}#sk-container-id-2 input.sk-hidden--visually {border: 0;clip: rect(1px 1px 1px 1px);clip: rect(1px, 1px, 1px, 1px);height: 1px;margin: -1px;overflow: hidden;padding: 0;position: absolute;width: 1px;}#sk-container-id-2 div.sk-estimator {font-family: monospace;background-color: #f0f8ff;border: 1px dotted black;border-radius: 0.25em;box-sizing: border-box;margin-bottom: 0.5em;}#sk-container-id-2 div.sk-estimator:hover {background-color: #d4ebff;}#sk-container-id-2 div.sk-parallel-item::after {content: \"\";width: 100%;border-bottom: 1px solid gray;flex-grow: 1;}#sk-container-id-2 div.sk-label:hover label.sk-toggleable__label {background-color: #d4ebff;}#sk-container-id-2 div.sk-serial::before {content: \"\";position: absolute;border-left: 1px solid gray;box-sizing: border-box;top: 0;bottom: 0;left: 50%;z-index: 0;}#sk-container-id-2 div.sk-serial {display: flex;flex-direction: column;align-items: center;background-color: white;padding-right: 0.2em;padding-left: 0.2em;position: relative;}#sk-container-id-2 div.sk-item {position: relative;z-index: 1;}#sk-container-id-2 div.sk-parallel {display: flex;align-items: stretch;justify-content: center;background-color: white;position: relative;}#sk-container-id-2 div.sk-item::before, #sk-container-id-2 div.sk-parallel-item::before {content: \"\";position: absolute;border-left: 1px solid gray;box-sizing: border-box;top: 0;bottom: 0;left: 50%;z-index: -1;}#sk-container-id-2 div.sk-parallel-item {display: flex;flex-direction: column;z-index: 1;position: relative;background-color: white;}#sk-container-id-2 div.sk-parallel-item:first-child::after {align-self: flex-end;width: 50%;}#sk-container-id-2 div.sk-parallel-item:last-child::after {align-self: flex-start;width: 50%;}#sk-container-id-2 div.sk-parallel-item:only-child::after {width: 0;}#sk-container-id-2 div.sk-dashed-wrapped {border: 1px dashed gray;margin: 0 0.4em 0.5em 0.4em;box-sizing: border-box;padding-bottom: 0.4em;background-color: white;}#sk-container-id-2 div.sk-label label {font-family: monospace;font-weight: bold;display: inline-block;line-height: 1.2em;}#sk-container-id-2 div.sk-label-container {text-align: center;}#sk-container-id-2 div.sk-container {/* jupyter's `normalize.less` sets `[hidden] { display: none; }` but bootstrap.min.css set `[hidden] { display: none !important; }` so we also need the `!important` here to be able to override the default hidden behavior on the sphinx rendered scikit-learn.org. See: https://github.com/scikit-learn/scikit-learn/issues/21755 */display: inline-block !important;position: relative;}#sk-container-id-2 div.sk-text-repr-fallback {display: none;}</style><div id=\"sk-container-id-2\" class=\"sk-top-container\"><div class=\"sk-text-repr-fallback\"><pre>RandomForestRegressor(random_state=1)</pre><b>In a Jupyter environment, please rerun this cell to show the HTML representation or trust the notebook. <br />On GitHub, the HTML representation is unable to render, please try loading this page with nbviewer.org.</b></div><div class=\"sk-container\" hidden><div class=\"sk-item\"><div class=\"sk-estimator sk-toggleable\"><input class=\"sk-toggleable__control sk-hidden--visually\" id=\"sk-estimator-id-2\" type=\"checkbox\" checked><label for=\"sk-estimator-id-2\" class=\"sk-toggleable__label sk-toggleable__label-arrow\">RandomForestRegressor</label><div class=\"sk-toggleable__content\"><pre>RandomForestRegressor(random_state=1)</pre></div></div></div></div></div>"
     },
     "execution_count": 46,
     "metadata": {},
     "output_type": "execute_result"
    }
   ],
   "source": [
    "model =RandomForestRegressor(random_state=1)\n",
    "model.fit(x_tr,y_tr)"
   ],
   "metadata": {
    "collapsed": false,
    "ExecuteTime": {
     "end_time": "2023-07-25T15:24:46.817807900Z",
     "start_time": "2023-07-25T15:24:01.067390600Z"
    }
   }
  },
  {
   "cell_type": "code",
   "execution_count": 16,
   "outputs": [
    {
     "name": "stdout",
     "output_type": "stream",
     "text": [
      "mae = 4.862320418035779\n",
      "mse = 84.58321616009493\n",
      "r2 = 0.9974789279133927\n"
     ]
    }
   ],
   "source": [
    "pred = model.predict(x_tst)\n",
    "mae = mean_absolute_error(pred,y_tst)\n",
    "mse = mean_squared_error(pred,y_tst)\n",
    "r2 = r2_score(pred,y_tst)\n",
    "print('mae =',mae)\n",
    "print('mse =',mse)\n",
    "print('r2 =',r2)"
   ],
   "metadata": {
    "collapsed": false,
    "ExecuteTime": {
     "end_time": "2023-07-25T15:08:13.960804500Z",
     "start_time": "2023-07-25T15:08:10.898261500Z"
    }
   }
  },
  {
   "cell_type": "markdown",
   "source": [
    "Тестовые данные"
   ],
   "metadata": {
    "collapsed": false
   }
  },
  {
   "cell_type": "code",
   "execution_count": 47,
   "outputs": [],
   "source": [
    "test_ = pd.read_csv('test.csv',sep = ',')\n",
    "res_id = test_['id']\n",
    "test_ = test_.drop('id',axis=1)"
   ],
   "metadata": {
    "collapsed": false,
    "ExecuteTime": {
     "end_time": "2023-07-25T15:24:46.883546900Z",
     "start_time": "2023-07-25T15:24:46.822348600Z"
    }
   }
  },
  {
   "cell_type": "markdown",
   "source": [
    "Первичная предобработка"
   ],
   "metadata": {
    "collapsed": false
   }
  },
  {
   "cell_type": "code",
   "execution_count": 48,
   "outputs": [],
   "source": [
    "test_['date'] = pd.to_datetime(test_['date'])\n",
    "test_['day'] = test_['date'].dt.day\n",
    "test_['month'] = test_['date'].dt.month\n",
    "test_['year'] = test_['date'].dt.year\n",
    "test_ = test_.drop('date', axis=1)"
   ],
   "metadata": {
    "collapsed": false,
    "ExecuteTime": {
     "end_time": "2023-07-25T15:24:46.910240300Z",
     "start_time": "2023-07-25T15:24:46.867069200Z"
    }
   }
  },
  {
   "cell_type": "markdown",
   "source": [
    "Кодировка"
   ],
   "metadata": {
    "collapsed": false
   }
  },
  {
   "cell_type": "code",
   "execution_count": 49,
   "outputs": [
    {
     "name": "stderr",
     "output_type": "stream",
     "text": [
      "C:\\Users\\korob\\AppData\\Local\\Programs\\Python\\Python311\\Lib\\site-packages\\sklearn\\preprocessing\\_encoders.py:868: FutureWarning: `sparse` was renamed to `sparse_output` in version 1.2 and will be removed in 1.4. `sparse_output` is ignored unless you leave `sparse` to its default value.\n",
      "  warnings.warn(\n",
      "C:\\Users\\korob\\AppData\\Local\\Programs\\Python\\Python311\\Lib\\site-packages\\sklearn\\preprocessing\\_encoders.py:868: FutureWarning: `sparse` was renamed to `sparse_output` in version 1.2 and will be removed in 1.4. `sparse_output` is ignored unless you leave `sparse` to its default value.\n",
      "  warnings.warn(\n",
      "C:\\Users\\korob\\AppData\\Local\\Programs\\Python\\Python311\\Lib\\site-packages\\sklearn\\preprocessing\\_encoders.py:868: FutureWarning: `sparse` was renamed to `sparse_output` in version 1.2 and will be removed in 1.4. `sparse_output` is ignored unless you leave `sparse` to its default value.\n",
      "  warnings.warn(\n"
     ]
    }
   ],
   "source": [
    "enc = OneHotEncoder(sparse=False)\n",
    "enc_dt = enc.fit_transform(test_[['country']])\n",
    "encoded_df = pd.DataFrame(enc_dt, columns=enc.categories_[0])\n",
    "test_ = pd.concat([test_.loc[:, test_.columns != 'country'], encoded_df], axis=1)\n",
    "\n",
    "enc = OneHotEncoder(sparse=False)\n",
    "enc_dt = enc.fit_transform(test_[['product']])\n",
    "encoded_df = pd.DataFrame(enc_dt, columns=enc.categories_[0])\n",
    "test_ = pd.concat([test_.loc[:, test_.columns != 'product'], encoded_df], axis=1)\n",
    "\n",
    "enc = OneHotEncoder(sparse=False)\n",
    "enc_dt = enc.fit_transform(test_[['store']])\n",
    "encoded_df = pd.DataFrame(enc_dt, columns=enc.categories_[0])\n",
    "test_ = pd.concat([test_.loc[:, test_.columns != 'store'], encoded_df], axis=1)"
   ],
   "metadata": {
    "collapsed": false,
    "ExecuteTime": {
     "end_time": "2023-07-25T15:24:47.005406300Z",
     "start_time": "2023-07-25T15:24:46.898999800Z"
    }
   }
  },
  {
   "cell_type": "markdown",
   "source": [
    "Тест"
   ],
   "metadata": {
    "collapsed": false
   }
  },
  {
   "cell_type": "code",
   "execution_count": 50,
   "outputs": [
    {
     "data": {
      "text/plain": "   day  month  year  Argentina  Canada  Estonia  Japan  Spain  \\\n0    1      1  2022        1.0     0.0      0.0    0.0    0.0   \n1    1      1  2022        1.0     0.0      0.0    0.0    0.0   \n2    1      1  2022        1.0     0.0      0.0    0.0    0.0   \n3    1      1  2022        1.0     0.0      0.0    0.0    0.0   \n4    1      1  2022        1.0     0.0      0.0    0.0    0.0   \n\n   Using LLMs to Improve Your Coding  Using LLMs to Train More LLMs  \\\n0                                1.0                            0.0   \n1                                0.0                            1.0   \n2                                0.0                            0.0   \n3                                0.0                            0.0   \n4                                0.0                            0.0   \n\n   Using LLMs to Win Friends and Influence People  \\\n0                                             0.0   \n1                                             0.0   \n2                                             1.0   \n3                                             0.0   \n4                                             0.0   \n\n   Using LLMs to Win More Kaggle Competitions  Using LLMs to Write Better  \\\n0                                         0.0                         0.0   \n1                                         0.0                         0.0   \n2                                         0.0                         0.0   \n3                                         1.0                         0.0   \n4                                         0.0                         1.0   \n\n   Kagglazon  Kaggle Learn  Kaggle Store  \n0        0.0           1.0           0.0  \n1        0.0           1.0           0.0  \n2        0.0           1.0           0.0  \n3        0.0           1.0           0.0  \n4        0.0           1.0           0.0  ",
      "text/html": "<div>\n<style scoped>\n    .dataframe tbody tr th:only-of-type {\n        vertical-align: middle;\n    }\n\n    .dataframe tbody tr th {\n        vertical-align: top;\n    }\n\n    .dataframe thead th {\n        text-align: right;\n    }\n</style>\n<table border=\"1\" class=\"dataframe\">\n  <thead>\n    <tr style=\"text-align: right;\">\n      <th></th>\n      <th>day</th>\n      <th>month</th>\n      <th>year</th>\n      <th>Argentina</th>\n      <th>Canada</th>\n      <th>Estonia</th>\n      <th>Japan</th>\n      <th>Spain</th>\n      <th>Using LLMs to Improve Your Coding</th>\n      <th>Using LLMs to Train More LLMs</th>\n      <th>Using LLMs to Win Friends and Influence People</th>\n      <th>Using LLMs to Win More Kaggle Competitions</th>\n      <th>Using LLMs to Write Better</th>\n      <th>Kagglazon</th>\n      <th>Kaggle Learn</th>\n      <th>Kaggle Store</th>\n    </tr>\n  </thead>\n  <tbody>\n    <tr>\n      <th>0</th>\n      <td>1</td>\n      <td>1</td>\n      <td>2022</td>\n      <td>1.0</td>\n      <td>0.0</td>\n      <td>0.0</td>\n      <td>0.0</td>\n      <td>0.0</td>\n      <td>1.0</td>\n      <td>0.0</td>\n      <td>0.0</td>\n      <td>0.0</td>\n      <td>0.0</td>\n      <td>0.0</td>\n      <td>1.0</td>\n      <td>0.0</td>\n    </tr>\n    <tr>\n      <th>1</th>\n      <td>1</td>\n      <td>1</td>\n      <td>2022</td>\n      <td>1.0</td>\n      <td>0.0</td>\n      <td>0.0</td>\n      <td>0.0</td>\n      <td>0.0</td>\n      <td>0.0</td>\n      <td>1.0</td>\n      <td>0.0</td>\n      <td>0.0</td>\n      <td>0.0</td>\n      <td>0.0</td>\n      <td>1.0</td>\n      <td>0.0</td>\n    </tr>\n    <tr>\n      <th>2</th>\n      <td>1</td>\n      <td>1</td>\n      <td>2022</td>\n      <td>1.0</td>\n      <td>0.0</td>\n      <td>0.0</td>\n      <td>0.0</td>\n      <td>0.0</td>\n      <td>0.0</td>\n      <td>0.0</td>\n      <td>1.0</td>\n      <td>0.0</td>\n      <td>0.0</td>\n      <td>0.0</td>\n      <td>1.0</td>\n      <td>0.0</td>\n    </tr>\n    <tr>\n      <th>3</th>\n      <td>1</td>\n      <td>1</td>\n      <td>2022</td>\n      <td>1.0</td>\n      <td>0.0</td>\n      <td>0.0</td>\n      <td>0.0</td>\n      <td>0.0</td>\n      <td>0.0</td>\n      <td>0.0</td>\n      <td>0.0</td>\n      <td>1.0</td>\n      <td>0.0</td>\n      <td>0.0</td>\n      <td>1.0</td>\n      <td>0.0</td>\n    </tr>\n    <tr>\n      <th>4</th>\n      <td>1</td>\n      <td>1</td>\n      <td>2022</td>\n      <td>1.0</td>\n      <td>0.0</td>\n      <td>0.0</td>\n      <td>0.0</td>\n      <td>0.0</td>\n      <td>0.0</td>\n      <td>0.0</td>\n      <td>0.0</td>\n      <td>0.0</td>\n      <td>1.0</td>\n      <td>0.0</td>\n      <td>1.0</td>\n      <td>0.0</td>\n    </tr>\n  </tbody>\n</table>\n</div>"
     },
     "execution_count": 50,
     "metadata": {},
     "output_type": "execute_result"
    }
   ],
   "source": [
    "test_.head()"
   ],
   "metadata": {
    "collapsed": false,
    "ExecuteTime": {
     "end_time": "2023-07-25T15:24:47.006411100Z",
     "start_time": "2023-07-25T15:24:46.948704Z"
    }
   }
  },
  {
   "cell_type": "code",
   "execution_count": 51,
   "outputs": [
    {
     "data": {
      "text/plain": "Empty DataFrame\nColumns: [day, month, year, Argentina, Canada, Estonia, Japan, Spain, Using LLMs to Improve Your Coding, Using LLMs to Train More LLMs, Using LLMs to Win Friends and Influence People, Using LLMs to Win More Kaggle Competitions, Using LLMs to Write Better, Kagglazon, Kaggle Learn, Kaggle Store]\nIndex: []",
      "text/html": "<div>\n<style scoped>\n    .dataframe tbody tr th:only-of-type {\n        vertical-align: middle;\n    }\n\n    .dataframe tbody tr th {\n        vertical-align: top;\n    }\n\n    .dataframe thead th {\n        text-align: right;\n    }\n</style>\n<table border=\"1\" class=\"dataframe\">\n  <thead>\n    <tr style=\"text-align: right;\">\n      <th></th>\n      <th>day</th>\n      <th>month</th>\n      <th>year</th>\n      <th>Argentina</th>\n      <th>Canada</th>\n      <th>Estonia</th>\n      <th>Japan</th>\n      <th>Spain</th>\n      <th>Using LLMs to Improve Your Coding</th>\n      <th>Using LLMs to Train More LLMs</th>\n      <th>Using LLMs to Win Friends and Influence People</th>\n      <th>Using LLMs to Win More Kaggle Competitions</th>\n      <th>Using LLMs to Write Better</th>\n      <th>Kagglazon</th>\n      <th>Kaggle Learn</th>\n      <th>Kaggle Store</th>\n    </tr>\n  </thead>\n  <tbody>\n  </tbody>\n</table>\n</div>"
     },
     "execution_count": 51,
     "metadata": {},
     "output_type": "execute_result"
    }
   ],
   "source": [
    "test_[test_.isnull().any(axis=1)]"
   ],
   "metadata": {
    "collapsed": false,
    "ExecuteTime": {
     "end_time": "2023-07-25T15:24:47.007408900Z",
     "start_time": "2023-07-25T15:24:46.978214Z"
    }
   }
  },
  {
   "cell_type": "code",
   "execution_count": 54,
   "outputs": [
    {
     "name": "stdout",
     "output_type": "stream",
     "text": [
      "[ True  True  True  True  True  True  True  True  True  True  True  True\n",
      "  True  True  True  True]\n"
     ]
    }
   ],
   "source": [
    "clm_ = list(test_.columns)\n",
    "print(clm_ == clm)"
   ],
   "metadata": {
    "collapsed": false,
    "ExecuteTime": {
     "end_time": "2023-07-25T15:25:05.994029200Z",
     "start_time": "2023-07-25T15:25:05.971487800Z"
    }
   }
  },
  {
   "cell_type": "code",
   "execution_count": 55,
   "outputs": [],
   "source": [
    "res_pred = model.predict(test_)"
   ],
   "metadata": {
    "collapsed": false,
    "ExecuteTime": {
     "end_time": "2023-07-25T15:26:09.727755Z",
     "start_time": "2023-07-25T15:26:08.566581100Z"
    }
   }
  },
  {
   "cell_type": "code",
   "execution_count": 57,
   "outputs": [],
   "source": [
    "res = pd.concat([res_id,pd.DataFrame(data = res_pred,columns=['num_sold'])],axis=1)\n",
    "res.to_csv(path_or_buf='res.csv',index=False)"
   ],
   "metadata": {
    "collapsed": false,
    "ExecuteTime": {
     "end_time": "2023-07-25T15:28:55.839605600Z",
     "start_time": "2023-07-25T15:28:55.756153700Z"
    }
   }
  },
  {
   "cell_type": "code",
   "execution_count": null,
   "outputs": [],
   "source": [],
   "metadata": {
    "collapsed": false
   }
  }
 ],
 "metadata": {
  "kernelspec": {
   "display_name": "Python 3",
   "language": "python",
   "name": "python3"
  },
  "language_info": {
   "codemirror_mode": {
    "name": "ipython",
    "version": 2
   },
   "file_extension": ".py",
   "mimetype": "text/x-python",
   "name": "python",
   "nbconvert_exporter": "python",
   "pygments_lexer": "ipython2",
   "version": "2.7.6"
  }
 },
 "nbformat": 4,
 "nbformat_minor": 0
}
